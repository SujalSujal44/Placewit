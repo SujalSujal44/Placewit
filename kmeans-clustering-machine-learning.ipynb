{
 "cells": [
  {
   "cell_type": "markdown",
   "metadata": {
    "papermill": {
     "duration": 0.035002,
     "end_time": "2021-01-03T00:40:41.628963",
     "exception": false,
     "start_time": "2021-01-03T00:40:41.593961",
     "status": "completed"
    },
    "tags": []
   },
   "source": [
    "# Importing Libraries and Loading Data"
   ]
  },
  {
   "cell_type": "code",
   "execution_count": 1,
   "metadata": {
    "execution": {
     "iopub.execute_input": "2021-01-03T00:40:41.702162Z",
     "iopub.status.busy": "2021-01-03T00:40:41.701430Z",
     "iopub.status.idle": "2021-01-03T00:40:43.020618Z",
     "shell.execute_reply": "2021-01-03T00:40:43.019915Z"
    },
    "papermill": {
     "duration": 1.358327,
     "end_time": "2021-01-03T00:40:43.020756",
     "exception": false,
     "start_time": "2021-01-03T00:40:41.662429",
     "status": "completed"
    },
    "tags": []
   },
   "outputs": [],
   "source": [
    "import numpy as np\n",
    "import pandas as pd\n",
    "import matplotlib.pyplot as plt\n",
    "import seaborn as sns\n",
    "import missingno as msno"
   ]
  },
  {
   "cell_type": "code",
   "execution_count": 2,
   "metadata": {
    "_cell_guid": "79c7e3d0-c299-4dcb-8224-4455121ee9b0",
    "_uuid": "d629ff2d2480ee46fbb7e2d37f6b5fab8052498a",
    "execution": {
     "iopub.execute_input": "2021-01-03T00:40:43.099160Z",
     "iopub.status.busy": "2021-01-03T00:40:43.098370Z",
     "iopub.status.idle": "2021-01-03T00:40:44.528771Z",
     "shell.execute_reply": "2021-01-03T00:40:44.528019Z"
    },
    "papermill": {
     "duration": 1.472721,
     "end_time": "2021-01-03T00:40:44.528923",
     "exception": false,
     "start_time": "2021-01-03T00:40:43.056202",
     "status": "completed"
    },
    "tags": []
   },
   "outputs": [],
   "source": [
    "df = pd.read_csv(\"../input/online-retail-customer-clustering/OnlineRetail.csv\", delimiter=',', encoding = \"ISO-8859-1\")"
   ]
  },
  {
   "cell_type": "markdown",
   "metadata": {
    "papermill": {
     "duration": 0.047837,
     "end_time": "2021-01-03T00:40:44.612233",
     "exception": false,
     "start_time": "2021-01-03T00:40:44.564396",
     "status": "completed"
    },
    "tags": []
   },
   "source": [
    "# Observing Datatypes, Columns and Rows"
   ]
  },
  {
   "cell_type": "code",
   "execution_count": 3,
   "metadata": {
    "execution": {
     "iopub.execute_input": "2021-01-03T00:40:44.733875Z",
     "iopub.status.busy": "2021-01-03T00:40:44.733161Z",
     "iopub.status.idle": "2021-01-03T00:40:44.751839Z",
     "shell.execute_reply": "2021-01-03T00:40:44.750898Z"
    },
    "papermill": {
     "duration": 0.085387,
     "end_time": "2021-01-03T00:40:44.752001",
     "exception": false,
     "start_time": "2021-01-03T00:40:44.666614",
     "status": "completed"
    },
    "tags": []
   },
   "outputs": [
    {
     "data": {
      "text/html": [
       "<div>\n",
       "<style scoped>\n",
       "    .dataframe tbody tr th:only-of-type {\n",
       "        vertical-align: middle;\n",
       "    }\n",
       "\n",
       "    .dataframe tbody tr th {\n",
       "        vertical-align: top;\n",
       "    }\n",
       "\n",
       "    .dataframe thead th {\n",
       "        text-align: right;\n",
       "    }\n",
       "</style>\n",
       "<table border=\"1\" class=\"dataframe\">\n",
       "  <thead>\n",
       "    <tr style=\"text-align: right;\">\n",
       "      <th></th>\n",
       "      <th>InvoiceNo</th>\n",
       "      <th>StockCode</th>\n",
       "      <th>Description</th>\n",
       "      <th>Quantity</th>\n",
       "      <th>InvoiceDate</th>\n",
       "      <th>UnitPrice</th>\n",
       "      <th>CustomerID</th>\n",
       "      <th>Country</th>\n",
       "    </tr>\n",
       "  </thead>\n",
       "  <tbody>\n",
       "    <tr>\n",
       "      <th>0</th>\n",
       "      <td>536365</td>\n",
       "      <td>85123A</td>\n",
       "      <td>WHITE HANGING HEART T-LIGHT HOLDER</td>\n",
       "      <td>6</td>\n",
       "      <td>01-12-2010 08:26</td>\n",
       "      <td>2.55</td>\n",
       "      <td>17850.0</td>\n",
       "      <td>United Kingdom</td>\n",
       "    </tr>\n",
       "    <tr>\n",
       "      <th>1</th>\n",
       "      <td>536365</td>\n",
       "      <td>71053</td>\n",
       "      <td>WHITE METAL LANTERN</td>\n",
       "      <td>6</td>\n",
       "      <td>01-12-2010 08:26</td>\n",
       "      <td>3.39</td>\n",
       "      <td>17850.0</td>\n",
       "      <td>United Kingdom</td>\n",
       "    </tr>\n",
       "    <tr>\n",
       "      <th>2</th>\n",
       "      <td>536365</td>\n",
       "      <td>84406B</td>\n",
       "      <td>CREAM CUPID HEARTS COAT HANGER</td>\n",
       "      <td>8</td>\n",
       "      <td>01-12-2010 08:26</td>\n",
       "      <td>2.75</td>\n",
       "      <td>17850.0</td>\n",
       "      <td>United Kingdom</td>\n",
       "    </tr>\n",
       "    <tr>\n",
       "      <th>3</th>\n",
       "      <td>536365</td>\n",
       "      <td>84029G</td>\n",
       "      <td>KNITTED UNION FLAG HOT WATER BOTTLE</td>\n",
       "      <td>6</td>\n",
       "      <td>01-12-2010 08:26</td>\n",
       "      <td>3.39</td>\n",
       "      <td>17850.0</td>\n",
       "      <td>United Kingdom</td>\n",
       "    </tr>\n",
       "    <tr>\n",
       "      <th>4</th>\n",
       "      <td>536365</td>\n",
       "      <td>84029E</td>\n",
       "      <td>RED WOOLLY HOTTIE WHITE HEART.</td>\n",
       "      <td>6</td>\n",
       "      <td>01-12-2010 08:26</td>\n",
       "      <td>3.39</td>\n",
       "      <td>17850.0</td>\n",
       "      <td>United Kingdom</td>\n",
       "    </tr>\n",
       "  </tbody>\n",
       "</table>\n",
       "</div>"
      ],
      "text/plain": [
       "  InvoiceNo StockCode                          Description  Quantity  \\\n",
       "0    536365    85123A   WHITE HANGING HEART T-LIGHT HOLDER         6   \n",
       "1    536365     71053                  WHITE METAL LANTERN         6   \n",
       "2    536365    84406B       CREAM CUPID HEARTS COAT HANGER         8   \n",
       "3    536365    84029G  KNITTED UNION FLAG HOT WATER BOTTLE         6   \n",
       "4    536365    84029E       RED WOOLLY HOTTIE WHITE HEART.         6   \n",
       "\n",
       "        InvoiceDate  UnitPrice  CustomerID         Country  \n",
       "0  01-12-2010 08:26       2.55     17850.0  United Kingdom  \n",
       "1  01-12-2010 08:26       3.39     17850.0  United Kingdom  \n",
       "2  01-12-2010 08:26       2.75     17850.0  United Kingdom  \n",
       "3  01-12-2010 08:26       3.39     17850.0  United Kingdom  \n",
       "4  01-12-2010 08:26       3.39     17850.0  United Kingdom  "
      ]
     },
     "execution_count": 3,
     "metadata": {},
     "output_type": "execute_result"
    }
   ],
   "source": [
    "df.head()"
   ]
  },
  {
   "cell_type": "code",
   "execution_count": 4,
   "metadata": {
    "execution": {
     "iopub.execute_input": "2021-01-03T00:40:44.831799Z",
     "iopub.status.busy": "2021-01-03T00:40:44.830639Z",
     "iopub.status.idle": "2021-01-03T00:40:45.136489Z",
     "shell.execute_reply": "2021-01-03T00:40:45.135214Z"
    },
    "papermill": {
     "duration": 0.345634,
     "end_time": "2021-01-03T00:40:45.136686",
     "exception": false,
     "start_time": "2021-01-03T00:40:44.791052",
     "status": "completed"
    },
    "tags": []
   },
   "outputs": [
    {
     "name": "stdout",
     "output_type": "stream",
     "text": [
      "<class 'pandas.core.frame.DataFrame'>\n",
      "RangeIndex: 541909 entries, 0 to 541908\n",
      "Data columns (total 8 columns):\n",
      " #   Column       Non-Null Count   Dtype  \n",
      "---  ------       --------------   -----  \n",
      " 0   InvoiceNo    541909 non-null  object \n",
      " 1   StockCode    541909 non-null  object \n",
      " 2   Description  540455 non-null  object \n",
      " 3   Quantity     541909 non-null  int64  \n",
      " 4   InvoiceDate  541909 non-null  object \n",
      " 5   UnitPrice    541909 non-null  float64\n",
      " 6   CustomerID   406829 non-null  float64\n",
      " 7   Country      541909 non-null  object \n",
      "dtypes: float64(2), int64(1), object(5)\n",
      "memory usage: 33.1+ MB\n"
     ]
    }
   ],
   "source": [
    "df.info()"
   ]
  },
  {
   "cell_type": "code",
   "execution_count": 5,
   "metadata": {
    "execution": {
     "iopub.execute_input": "2021-01-03T00:40:45.212657Z",
     "iopub.status.busy": "2021-01-03T00:40:45.212016Z",
     "iopub.status.idle": "2021-01-03T00:40:45.301407Z",
     "shell.execute_reply": "2021-01-03T00:40:45.301994Z"
    },
    "papermill": {
     "duration": 0.129149,
     "end_time": "2021-01-03T00:40:45.302186",
     "exception": false,
     "start_time": "2021-01-03T00:40:45.173037",
     "status": "completed"
    },
    "tags": []
   },
   "outputs": [
    {
     "data": {
      "text/html": [
       "<div>\n",
       "<style scoped>\n",
       "    .dataframe tbody tr th:only-of-type {\n",
       "        vertical-align: middle;\n",
       "    }\n",
       "\n",
       "    .dataframe tbody tr th {\n",
       "        vertical-align: top;\n",
       "    }\n",
       "\n",
       "    .dataframe thead th {\n",
       "        text-align: right;\n",
       "    }\n",
       "</style>\n",
       "<table border=\"1\" class=\"dataframe\">\n",
       "  <thead>\n",
       "    <tr style=\"text-align: right;\">\n",
       "      <th></th>\n",
       "      <th>Quantity</th>\n",
       "      <th>UnitPrice</th>\n",
       "      <th>CustomerID</th>\n",
       "    </tr>\n",
       "  </thead>\n",
       "  <tbody>\n",
       "    <tr>\n",
       "      <th>count</th>\n",
       "      <td>541909.000000</td>\n",
       "      <td>541909.000000</td>\n",
       "      <td>406829.000000</td>\n",
       "    </tr>\n",
       "    <tr>\n",
       "      <th>mean</th>\n",
       "      <td>9.552250</td>\n",
       "      <td>4.611114</td>\n",
       "      <td>15287.690570</td>\n",
       "    </tr>\n",
       "    <tr>\n",
       "      <th>std</th>\n",
       "      <td>218.081158</td>\n",
       "      <td>96.759853</td>\n",
       "      <td>1713.600303</td>\n",
       "    </tr>\n",
       "    <tr>\n",
       "      <th>min</th>\n",
       "      <td>-80995.000000</td>\n",
       "      <td>-11062.060000</td>\n",
       "      <td>12346.000000</td>\n",
       "    </tr>\n",
       "    <tr>\n",
       "      <th>25%</th>\n",
       "      <td>1.000000</td>\n",
       "      <td>1.250000</td>\n",
       "      <td>13953.000000</td>\n",
       "    </tr>\n",
       "    <tr>\n",
       "      <th>50%</th>\n",
       "      <td>3.000000</td>\n",
       "      <td>2.080000</td>\n",
       "      <td>15152.000000</td>\n",
       "    </tr>\n",
       "    <tr>\n",
       "      <th>75%</th>\n",
       "      <td>10.000000</td>\n",
       "      <td>4.130000</td>\n",
       "      <td>16791.000000</td>\n",
       "    </tr>\n",
       "    <tr>\n",
       "      <th>max</th>\n",
       "      <td>80995.000000</td>\n",
       "      <td>38970.000000</td>\n",
       "      <td>18287.000000</td>\n",
       "    </tr>\n",
       "  </tbody>\n",
       "</table>\n",
       "</div>"
      ],
      "text/plain": [
       "            Quantity      UnitPrice     CustomerID\n",
       "count  541909.000000  541909.000000  406829.000000\n",
       "mean        9.552250       4.611114   15287.690570\n",
       "std       218.081158      96.759853    1713.600303\n",
       "min    -80995.000000  -11062.060000   12346.000000\n",
       "25%         1.000000       1.250000   13953.000000\n",
       "50%         3.000000       2.080000   15152.000000\n",
       "75%        10.000000       4.130000   16791.000000\n",
       "max     80995.000000   38970.000000   18287.000000"
      ]
     },
     "execution_count": 5,
     "metadata": {},
     "output_type": "execute_result"
    }
   ],
   "source": [
    "df.describe()"
   ]
  },
  {
   "cell_type": "markdown",
   "metadata": {
    "papermill": {
     "duration": 0.040104,
     "end_time": "2021-01-03T00:40:45.383142",
     "exception": false,
     "start_time": "2021-01-03T00:40:45.343038",
     "status": "completed"
    },
    "tags": []
   },
   "source": [
    "# Data Cleaning: Checking for Null Values"
   ]
  },
  {
   "cell_type": "code",
   "execution_count": 6,
   "metadata": {
    "execution": {
     "iopub.execute_input": "2021-01-03T00:40:45.469032Z",
     "iopub.status.busy": "2021-01-03T00:40:45.468287Z",
     "iopub.status.idle": "2021-01-03T00:40:46.578133Z",
     "shell.execute_reply": "2021-01-03T00:40:46.577585Z"
    },
    "papermill": {
     "duration": 1.154321,
     "end_time": "2021-01-03T00:40:46.578262",
     "exception": false,
     "start_time": "2021-01-03T00:40:45.423941",
     "status": "completed"
    },
    "tags": []
   },
   "outputs": [
    {
     "data": {
      "text/plain": [
       "<matplotlib.axes._subplots.AxesSubplot at 0x7fbb84daef10>"
      ]
     },
     "execution_count": 6,
     "metadata": {},
     "output_type": "execute_result"
    },
    {
     "data": {
      "image/png": "[encoded data removed]",
      "text/plain": [
       "<Figure size 1728x720 with 3 Axes>"
      ]
     },
     "metadata": {
      "needs_background": "light"
     },
     "output_type": "display_data"
    }
   ],
   "source": [
    "msno.bar(df)"
   ]
  },
  {
   "cell_type": "markdown",
   "metadata": {
    "papermill": {
     "duration": 0.039687,
     "end_time": "2021-01-03T00:40:46.662122",
     "exception": false,
     "start_time": "2021-01-03T00:40:46.622435",
     "status": "completed"
    },
    "tags": []
   },
   "source": [
    "* We observed that CustomerID is missing.\n",
    "* We will first check approximately how many rows are mssing this detail\n",
    "* Then we will delete the missing rows. \n",
    "* The type of analysis I will be performing requires groupby according to customers so that is why it is necessary to remove null values from this column. "
   ]
  },
  {
   "cell_type": "code",
   "execution_count": 7,
   "metadata": {
    "execution": {
     "iopub.execute_input": "2021-01-03T00:40:46.744983Z",
     "iopub.status.busy": "2021-01-03T00:40:46.743898Z",
     "iopub.status.idle": "2021-01-03T00:40:47.036194Z",
     "shell.execute_reply": "2021-01-03T00:40:47.036825Z"
    },
    "papermill": {
     "duration": 0.335686,
     "end_time": "2021-01-03T00:40:47.037011",
     "exception": false,
     "start_time": "2021-01-03T00:40:46.701325",
     "status": "completed"
    },
    "tags": []
   },
   "outputs": [
    {
     "data": {
      "text/plain": [
       "InvoiceNo      541909\n",
       "StockCode      541909\n",
       "Description    540455\n",
       "Quantity       541909\n",
       "InvoiceDate    541909\n",
       "UnitPrice      541909\n",
       "CustomerID     406829\n",
       "Country        541909\n",
       "dtype: int64"
      ]
     },
     "execution_count": 7,
     "metadata": {},
     "output_type": "execute_result"
    }
   ],
   "source": [
    "df.count()"
   ]
  },
  {
   "cell_type": "code",
   "execution_count": 8,
   "metadata": {
    "execution": {
     "iopub.execute_input": "2021-01-03T00:40:47.121029Z",
     "iopub.status.busy": "2021-01-03T00:40:47.120283Z",
     "iopub.status.idle": "2021-01-03T00:40:47.216348Z",
     "shell.execute_reply": "2021-01-03T00:40:47.216884Z"
    },
    "papermill": {
     "duration": 0.141192,
     "end_time": "2021-01-03T00:40:47.217052",
     "exception": false,
     "start_time": "2021-01-03T00:40:47.075860",
     "status": "completed"
    },
    "tags": []
   },
   "outputs": [
    {
     "data": {
      "text/plain": [
       "InvoiceNo      135080\n",
       "StockCode      135080\n",
       "Description    133626\n",
       "Quantity       135080\n",
       "InvoiceDate    135080\n",
       "UnitPrice      135080\n",
       "CustomerID          0\n",
       "Country        135080\n",
       "dtype: int64"
      ]
     },
     "execution_count": 8,
     "metadata": {},
     "output_type": "execute_result"
    }
   ],
   "source": [
    "df[df['CustomerID'].isnull()].count()"
   ]
  },
  {
   "cell_type": "markdown",
   "metadata": {
    "papermill": {
     "duration": 0.039675,
     "end_time": "2021-01-03T00:40:47.386091",
     "exception": false,
     "start_time": "2021-01-03T00:40:47.346416",
     "status": "completed"
    },
    "tags": []
   },
   "source": [
    "* Approximately 25% of the data is missing.\n",
    "* We will prooceed with dropping the missing rows now."
   ]
  },
  {
   "cell_type": "code",
   "execution_count": 10,
   "metadata": {
    "execution": {
     "iopub.execute_input": "2021-01-03T00:40:47.467767Z",
     "iopub.status.busy": "2021-01-03T00:40:47.467116Z",
     "iopub.status.idle": "2021-01-03T00:40:47.797464Z",
     "shell.execute_reply": "2021-01-03T00:40:47.796856Z"
    },
    "papermill": {
     "duration": 0.372199,
     "end_time": "2021-01-03T00:40:47.797585",
     "exception": false,
     "start_time": "2021-01-03T00:40:47.425386",
     "status": "completed"
    },
    "tags": []
   },
   "outputs": [],
   "source": [
    "df.dropna(inplace=True)"
   ]
  },
  {
   "cell_type": "code",
   "execution_count": 11,
   "metadata": {
    "execution": {
     "iopub.execute_input": "2021-01-03T00:40:47.882577Z",
     "iopub.status.busy": "2021-01-03T00:40:47.881579Z",
     "iopub.status.idle": "2021-01-03T00:40:48.781007Z",
     "shell.execute_reply": "2021-01-03T00:40:48.780419Z"
    },
    "papermill": {
     "duration": 0.943889,
     "end_time": "2021-01-03T00:40:48.781125",
     "exception": false,
     "start_time": "2021-01-03T00:40:47.837236",
     "status": "completed"
    },
    "tags": []
   },
   "outputs": [
    {
     "data": {
      "text/plain": [
       "<matplotlib.axes._subplots.AxesSubplot at 0x7fbb842de110>"
      ]
     },
     "execution_count": 11,
     "metadata": {},
     "output_type": "execute_result"
    },
    {
     "data": {
      "image/png": "[encoded data removed]",
      "text/plain": [
       "<Figure size 1728x720 with 3 Axes>"
      ]
     },
     "metadata": {
      "needs_background": "light"
     },
     "output_type": "display_data"
    }
   ],
   "source": [
    "msno.bar(df)"
   ]
  },
  {
   "cell_type": "markdown",
   "metadata": {
    "papermill": {
     "duration": 0.043587,
     "end_time": "2021-01-03T00:40:48.868452",
     "exception": false,
     "start_time": "2021-01-03T00:40:48.824865",
     "status": "completed"
    },
    "tags": []
   },
   "source": [
    "* Now we can see above that the matrix is showing all bars are equal\n",
    "* meaning that the data is clean and ready to be used in the model\n",
    "* meanwhile we will change the data type of InvoiceDate to Datetime.\n",
    "* We will also create three new fields:"
   ]
  },
  {
   "cell_type": "markdown",
   "metadata": {
    "papermill": {
     "duration": 0.042083,
     "end_time": "2021-01-03T00:40:49.354152",
     "exception": false,
     "start_time": "2021-01-03T00:40:49.312069",
     "status": "completed"
    },
    "tags": []
   },
   "source": [
    "# Amount"
   ]
  },
  {
   "cell_type": "code",
   "execution_count": 13,
   "metadata": {
    "execution": {
     "iopub.execute_input": "2021-01-03T00:40:49.445697Z",
     "iopub.status.busy": "2021-01-03T00:40:49.444759Z",
     "iopub.status.idle": "2021-01-03T00:40:49.508720Z",
     "shell.execute_reply": "2021-01-03T00:40:49.509261Z"
    },
    "papermill": {
     "duration": 0.11334,
     "end_time": "2021-01-03T00:40:49.509436",
     "exception": false,
     "start_time": "2021-01-03T00:40:49.396096",
     "status": "completed"
    },
    "tags": []
   },
   "outputs": [
    {
     "data": {
      "text/html": [
       "<div>\n",
       "<style scoped>\n",
       "    .dataframe tbody tr th:only-of-type {\n",
       "        vertical-align: middle;\n",
       "    }\n",
       "\n",
       "    .dataframe tbody tr th {\n",
       "        vertical-align: top;\n",
       "    }\n",
       "\n",
       "    .dataframe thead th {\n",
       "        text-align: right;\n",
       "    }\n",
       "</style>\n",
       "<table border=\"1\" class=\"dataframe\">\n",
       "  <thead>\n",
       "    <tr style=\"text-align: right;\">\n",
       "      <th></th>\n",
       "      <th>CustomerID</th>\n",
       "      <th>Total Amount Spent</th>\n",
       "    </tr>\n",
       "  </thead>\n",
       "  <tbody>\n",
       "    <tr>\n",
       "      <th>0</th>\n",
       "      <td>12346.0</td>\n",
       "      <td>0.00</td>\n",
       "    </tr>\n",
       "    <tr>\n",
       "      <th>1</th>\n",
       "      <td>12347.0</td>\n",
       "      <td>4310.00</td>\n",
       "    </tr>\n",
       "    <tr>\n",
       "      <th>2</th>\n",
       "      <td>12348.0</td>\n",
       "      <td>1797.24</td>\n",
       "    </tr>\n",
       "    <tr>\n",
       "      <th>3</th>\n",
       "      <td>12349.0</td>\n",
       "      <td>1757.55</td>\n",
       "    </tr>\n",
       "    <tr>\n",
       "      <th>4</th>\n",
       "      <td>12350.0</td>\n",
       "      <td>334.40</td>\n",
       "    </tr>\n",
       "  </tbody>\n",
       "</table>\n",
       "</div>"
      ],
      "text/plain": [
       "   CustomerID  Total Amount Spent\n",
       "0     12346.0                0.00\n",
       "1     12347.0             4310.00\n",
       "2     12348.0             1797.24\n",
       "3     12349.0             1757.55\n",
       "4     12350.0              334.40"
      ]
     },
     "execution_count": 13,
     "metadata": {},
     "output_type": "execute_result"
    }
   ],
   "source": [
    "df['Total Amount Spent']= df['Quantity'] * df['UnitPrice']\n",
    "\n",
    "total_amount = df['Total Amount Spent'].groupby(df['CustomerID']).sum()\n",
    "total_amount = pd.DataFrame(total_amount).reset_index()\n",
    "total_amount.head()"
   ]
  },
  {
   "cell_type": "markdown",
   "metadata": {
    "papermill": {
     "duration": 0.04156,
     "end_time": "2021-01-03T00:40:49.592853",
     "exception": false,
     "start_time": "2021-01-03T00:40:49.551293",
     "status": "completed"
    },
    "tags": []
   },
   "source": [
    "# Number of Transactions"
   ]
  },
  {
   "cell_type": "code",
   "execution_count": 14,
   "metadata": {
    "execution": {
     "iopub.execute_input": "2021-01-03T00:40:49.685674Z",
     "iopub.status.busy": "2021-01-03T00:40:49.684525Z",
     "iopub.status.idle": "2021-01-03T00:40:49.746352Z",
     "shell.execute_reply": "2021-01-03T00:40:49.746883Z"
    },
    "papermill": {
     "duration": 0.112473,
     "end_time": "2021-01-03T00:40:49.747053",
     "exception": false,
     "start_time": "2021-01-03T00:40:49.634580",
     "status": "completed"
    },
    "tags": []
   },
   "outputs": [
    {
     "data": {
      "text/html": [
       "<div>\n",
       "<style scoped>\n",
       "    .dataframe tbody tr th:only-of-type {\n",
       "        vertical-align: middle;\n",
       "    }\n",
       "\n",
       "    .dataframe tbody tr th {\n",
       "        vertical-align: top;\n",
       "    }\n",
       "\n",
       "    .dataframe thead th {\n",
       "        text-align: right;\n",
       "    }\n",
       "</style>\n",
       "<table border=\"1\" class=\"dataframe\">\n",
       "  <thead>\n",
       "    <tr style=\"text-align: right;\">\n",
       "      <th></th>\n",
       "      <th>CustomerID</th>\n",
       "      <th>InvoiceNo</th>\n",
       "    </tr>\n",
       "  </thead>\n",
       "  <tbody>\n",
       "    <tr>\n",
       "      <th>0</th>\n",
       "      <td>12346.0</td>\n",
       "      <td>2</td>\n",
       "    </tr>\n",
       "    <tr>\n",
       "      <th>1</th>\n",
       "      <td>12347.0</td>\n",
       "      <td>182</td>\n",
       "    </tr>\n",
       "    <tr>\n",
       "      <th>2</th>\n",
       "      <td>12348.0</td>\n",
       "      <td>31</td>\n",
       "    </tr>\n",
       "    <tr>\n",
       "      <th>3</th>\n",
       "      <td>12349.0</td>\n",
       "      <td>73</td>\n",
       "    </tr>\n",
       "    <tr>\n",
       "      <th>4</th>\n",
       "      <td>12350.0</td>\n",
       "      <td>17</td>\n",
       "    </tr>\n",
       "  </tbody>\n",
       "</table>\n",
       "</div>"
      ],
      "text/plain": [
       "   CustomerID  InvoiceNo\n",
       "0     12346.0          2\n",
       "1     12347.0        182\n",
       "2     12348.0         31\n",
       "3     12349.0         73\n",
       "4     12350.0         17"
      ]
     },
     "execution_count": 14,
     "metadata": {},
     "output_type": "execute_result"
    }
   ],
   "source": [
    "transactions = df['InvoiceNo'].groupby(df['CustomerID']).count()\n",
    "transaction = pd.DataFrame(transactions).reset_index()\n",
    "transaction.head()"
   ]
  },
  {
   "cell_type": "markdown",
   "metadata": {
    "papermill": {
     "duration": 0.043516,
     "end_time": "2021-01-03T00:40:49.837960",
     "exception": false,
     "start_time": "2021-01-03T00:40:49.794444",
     "status": "completed"
    },
    "tags": []
   },
   "source": [
    "# Last Transaction (LT)"
   ]
  },
  {
   "cell_type": "code",
   "execution_count": 15,
   "metadata": {
    "execution": {
     "iopub.execute_input": "2021-01-03T00:40:49.928366Z",
     "iopub.status.busy": "2021-01-03T00:40:49.927331Z",
     "iopub.status.idle": "2021-01-03T00:40:52.477123Z",
     "shell.execute_reply": "2021-01-03T00:40:52.476587Z"
    },
    "papermill": {
     "duration": 2.596136,
     "end_time": "2021-01-03T00:40:52.477255",
     "exception": false,
     "start_time": "2021-01-03T00:40:49.881119",
     "status": "completed"
    },
    "tags": []
   },
   "outputs": [
    {
     "data": {
      "text/html": [
       "<div>\n",
       "<style scoped>\n",
       "    .dataframe tbody tr th:only-of-type {\n",
       "        vertical-align: middle;\n",
       "    }\n",
       "\n",
       "    .dataframe tbody tr th {\n",
       "        vertical-align: top;\n",
       "    }\n",
       "\n",
       "    .dataframe thead th {\n",
       "        text-align: right;\n",
       "    }\n",
       "</style>\n",
       "<table border=\"1\" class=\"dataframe\">\n",
       "  <thead>\n",
       "    <tr style=\"text-align: right;\">\n",
       "      <th></th>\n",
       "      <th>CustomerID</th>\n",
       "      <th>Last_transact</th>\n",
       "    </tr>\n",
       "  </thead>\n",
       "  <tbody>\n",
       "    <tr>\n",
       "      <th>0</th>\n",
       "      <td>12346.0</td>\n",
       "      <td>325 days 02:33:00</td>\n",
       "    </tr>\n",
       "    <tr>\n",
       "      <th>1</th>\n",
       "      <td>12347.0</td>\n",
       "      <td>1 days 20:58:00</td>\n",
       "    </tr>\n",
       "    <tr>\n",
       "      <th>2</th>\n",
       "      <td>12348.0</td>\n",
       "      <td>74 days 23:37:00</td>\n",
       "    </tr>\n",
       "    <tr>\n",
       "      <th>3</th>\n",
       "      <td>12349.0</td>\n",
       "      <td>18 days 02:59:00</td>\n",
       "    </tr>\n",
       "    <tr>\n",
       "      <th>4</th>\n",
       "      <td>12350.0</td>\n",
       "      <td>309 days 20:49:00</td>\n",
       "    </tr>\n",
       "  </tbody>\n",
       "</table>\n",
       "</div>"
      ],
      "text/plain": [
       "   CustomerID     Last_transact\n",
       "0     12346.0 325 days 02:33:00\n",
       "1     12347.0   1 days 20:58:00\n",
       "2     12348.0  74 days 23:37:00\n",
       "3     12349.0  18 days 02:59:00\n",
       "4     12350.0 309 days 20:49:00"
      ]
     },
     "execution_count": 15,
     "metadata": {},
     "output_type": "execute_result"
    }
   ],
   "source": [
    "final = df['InvoiceDate'].max()\n",
    "df['Last_transact'] = final - df['InvoiceDate']\n",
    "LT = df.groupby(df['CustomerID']).min()['Last_transact']\n",
    "LT = pd.DataFrame(LT).reset_index()\n",
    "LT.head()"
   ]
  },
  {
   "cell_type": "markdown",
   "metadata": {
    "papermill": {
     "duration": 0.042879,
     "end_time": "2021-01-03T00:40:52.563224",
     "exception": false,
     "start_time": "2021-01-03T00:40:52.520345",
     "status": "completed"
    },
    "tags": []
   },
   "source": [
    "# Merging All the newly created columns"
   ]
  },
  {
   "cell_type": "code",
   "execution_count": 16,
   "metadata": {
    "execution": {
     "iopub.execute_input": "2021-01-03T00:40:52.660979Z",
     "iopub.status.busy": "2021-01-03T00:40:52.660098Z",
     "iopub.status.idle": "2021-01-03T00:40:52.671992Z",
     "shell.execute_reply": "2021-01-03T00:40:52.672597Z"
    },
    "papermill": {
     "duration": 0.066312,
     "end_time": "2021-01-03T00:40:52.672762",
     "exception": false,
     "start_time": "2021-01-03T00:40:52.606450",
     "status": "completed"
    },
    "tags": []
   },
   "outputs": [],
   "source": [
    "df_new = pd.merge(total_amount, transaction, how='inner', on='CustomerID')"
   ]
  },
  {
   "cell_type": "code",
   "execution_count": 17,
   "metadata": {
    "execution": {
     "iopub.execute_input": "2021-01-03T00:40:52.765847Z",
     "iopub.status.busy": "2021-01-03T00:40:52.765073Z",
     "iopub.status.idle": "2021-01-03T00:40:52.776844Z",
     "shell.execute_reply": "2021-01-03T00:40:52.777451Z"
    },
    "papermill": {
     "duration": 0.060393,
     "end_time": "2021-01-03T00:40:52.777625",
     "exception": false,
     "start_time": "2021-01-03T00:40:52.717232",
     "status": "completed"
    },
    "tags": []
   },
   "outputs": [],
   "source": [
    "df_new = pd.merge(df_new, LT, how='inner', on='CustomerID')"
   ]
  },
  {
   "cell_type": "markdown",
   "metadata": {
    "papermill": {
     "duration": 0.044286,
     "end_time": "2021-01-03T00:40:52.865953",
     "exception": false,
     "start_time": "2021-01-03T00:40:52.821667",
     "status": "completed"
    },
    "tags": []
   },
   "source": [
    " Last Transact column still needs to be simplified for just number of days"
   ]
  },
  {
   "cell_type": "code",
   "execution_count": 18,
   "metadata": {
    "execution": {
     "iopub.execute_input": "2021-01-03T00:40:52.966503Z",
     "iopub.status.busy": "2021-01-03T00:40:52.965723Z",
     "iopub.status.idle": "2021-01-03T00:40:52.972567Z",
     "shell.execute_reply": "2021-01-03T00:40:52.971960Z"
    },
    "papermill": {
     "duration": 0.062771,
     "end_time": "2021-01-03T00:40:52.972689",
     "exception": false,
     "start_time": "2021-01-03T00:40:52.909918",
     "status": "completed"
    },
    "tags": []
   },
   "outputs": [
    {
     "data": {
      "text/html": [
       "<div>\n",
       "<style scoped>\n",
       "    .dataframe tbody tr th:only-of-type {\n",
       "        vertical-align: middle;\n",
       "    }\n",
       "\n",
       "    .dataframe tbody tr th {\n",
       "        vertical-align: top;\n",
       "    }\n",
       "\n",
       "    .dataframe thead th {\n",
       "        text-align: right;\n",
       "    }\n",
       "</style>\n",
       "<table border=\"1\" class=\"dataframe\">\n",
       "  <thead>\n",
       "    <tr style=\"text-align: right;\">\n",
       "      <th></th>\n",
       "      <th>CustomerID</th>\n",
       "      <th>Total Amount Spent</th>\n",
       "      <th>InvoiceNo</th>\n",
       "      <th>Last_transact</th>\n",
       "    </tr>\n",
       "  </thead>\n",
       "  <tbody>\n",
       "    <tr>\n",
       "      <th>0</th>\n",
       "      <td>12346.0</td>\n",
       "      <td>0.00</td>\n",
       "      <td>2</td>\n",
       "      <td>325 days 02:33:00</td>\n",
       "    </tr>\n",
       "    <tr>\n",
       "      <th>1</th>\n",
       "      <td>12347.0</td>\n",
       "      <td>4310.00</td>\n",
       "      <td>182</td>\n",
       "      <td>1 days 20:58:00</td>\n",
       "    </tr>\n",
       "    <tr>\n",
       "      <th>2</th>\n",
       "      <td>12348.0</td>\n",
       "      <td>1797.24</td>\n",
       "      <td>31</td>\n",
       "      <td>74 days 23:37:00</td>\n",
       "    </tr>\n",
       "    <tr>\n",
       "      <th>3</th>\n",
       "      <td>12349.0</td>\n",
       "      <td>1757.55</td>\n",
       "      <td>73</td>\n",
       "      <td>18 days 02:59:00</td>\n",
       "    </tr>\n",
       "    <tr>\n",
       "      <th>4</th>\n",
       "      <td>12350.0</td>\n",
       "      <td>334.40</td>\n",
       "      <td>17</td>\n",
       "      <td>309 days 20:49:00</td>\n",
       "    </tr>\n",
       "  </tbody>\n",
       "</table>\n",
       "</div>"
      ],
      "text/plain": [
       "   CustomerID  Total Amount Spent  InvoiceNo     Last_transact\n",
       "0     12346.0                0.00          2 325 days 02:33:00\n",
       "1     12347.0             4310.00        182   1 days 20:58:00\n",
       "2     12348.0             1797.24         31  74 days 23:37:00\n",
       "3     12349.0             1757.55         73  18 days 02:59:00\n",
       "4     12350.0              334.40         17 309 days 20:49:00"
      ]
     },
     "execution_count": 18,
     "metadata": {},
     "output_type": "execute_result"
    }
   ],
   "source": [
    "df_new.head()"
   ]
  },
  {
   "cell_type": "code",
   "execution_count": 19,
   "metadata": {
    "execution": {
     "iopub.execute_input": "2021-01-03T00:40:53.073108Z",
     "iopub.status.busy": "2021-01-03T00:40:53.072162Z",
     "iopub.status.idle": "2021-01-03T00:40:53.077672Z",
     "shell.execute_reply": "2021-01-03T00:40:53.078280Z"
    },
    "papermill": {
     "duration": 0.057728,
     "end_time": "2021-01-03T00:40:53.078442",
     "exception": false,
     "start_time": "2021-01-03T00:40:53.020714",
     "status": "completed"
    },
    "tags": []
   },
   "outputs": [],
   "source": [
    "df_new['Last_transact'] = df_new['Last_transact'].dt.days"
   ]
  },
  {
   "cell_type": "code",
   "execution_count": 20,
   "metadata": {
    "execution": {
     "iopub.execute_input": "2021-01-03T00:40:53.172642Z",
     "iopub.status.busy": "2021-01-03T00:40:53.171937Z",
     "iopub.status.idle": "2021-01-03T00:40:53.185090Z",
     "shell.execute_reply": "2021-01-03T00:40:53.184386Z"
    },
    "papermill": {
     "duration": 0.061995,
     "end_time": "2021-01-03T00:40:53.185207",
     "exception": false,
     "start_time": "2021-01-03T00:40:53.123212",
     "status": "completed"
    },
    "tags": []
   },
   "outputs": [
    {
     "data": {
      "text/html": [
       "<div>\n",
       "<style scoped>\n",
       "    .dataframe tbody tr th:only-of-type {\n",
       "        vertical-align: middle;\n",
       "    }\n",
       "\n",
       "    .dataframe tbody tr th {\n",
       "        vertical-align: top;\n",
       "    }\n",
       "\n",
       "    .dataframe thead th {\n",
       "        text-align: right;\n",
       "    }\n",
       "</style>\n",
       "<table border=\"1\" class=\"dataframe\">\n",
       "  <thead>\n",
       "    <tr style=\"text-align: right;\">\n",
       "      <th></th>\n",
       "      <th>CustomerID</th>\n",
       "      <th>Total Amount Spent</th>\n",
       "      <th>InvoiceNo</th>\n",
       "      <th>Last_transact</th>\n",
       "    </tr>\n",
       "  </thead>\n",
       "  <tbody>\n",
       "    <tr>\n",
       "      <th>0</th>\n",
       "      <td>12346.0</td>\n",
       "      <td>0.00</td>\n",
       "      <td>2</td>\n",
       "      <td>325</td>\n",
       "    </tr>\n",
       "    <tr>\n",
       "      <th>1</th>\n",
       "      <td>12347.0</td>\n",
       "      <td>4310.00</td>\n",
       "      <td>182</td>\n",
       "      <td>1</td>\n",
       "    </tr>\n",
       "    <tr>\n",
       "      <th>2</th>\n",
       "      <td>12348.0</td>\n",
       "      <td>1797.24</td>\n",
       "      <td>31</td>\n",
       "      <td>74</td>\n",
       "    </tr>\n",
       "    <tr>\n",
       "      <th>3</th>\n",
       "      <td>12349.0</td>\n",
       "      <td>1757.55</td>\n",
       "      <td>73</td>\n",
       "      <td>18</td>\n",
       "    </tr>\n",
       "    <tr>\n",
       "      <th>4</th>\n",
       "      <td>12350.0</td>\n",
       "      <td>334.40</td>\n",
       "      <td>17</td>\n",
       "      <td>309</td>\n",
       "    </tr>\n",
       "  </tbody>\n",
       "</table>\n",
       "</div>"
      ],
      "text/plain": [
       "   CustomerID  Total Amount Spent  InvoiceNo  Last_transact\n",
       "0     12346.0                0.00          2            325\n",
       "1     12347.0             4310.00        182              1\n",
       "2     12348.0             1797.24         31             74\n",
       "3     12349.0             1757.55         73             18\n",
       "4     12350.0              334.40         17            309"
      ]
     },
     "execution_count": 20,
     "metadata": {},
     "output_type": "execute_result"
    }
   ],
   "source": [
    "df_new.head()"
   ]
  },
  {
   "cell_type": "markdown",
   "metadata": {
    "papermill": {
     "duration": 0.044441,
     "end_time": "2021-01-03T00:40:53.274735",
     "exception": false,
     "start_time": "2021-01-03T00:40:53.230294",
     "status": "completed"
    },
    "tags": []
   },
   "source": [
    "# K Means Clustering Model"
   ]
  },
  {
   "cell_type": "code",
   "execution_count": 21,
   "metadata": {
    "execution": {
     "iopub.execute_input": "2021-01-03T00:40:53.371647Z",
     "iopub.status.busy": "2021-01-03T00:40:53.370696Z",
     "iopub.status.idle": "2021-01-03T00:40:53.912222Z",
     "shell.execute_reply": "2021-01-03T00:40:53.911448Z"
    },
    "papermill": {
     "duration": 0.591416,
     "end_time": "2021-01-03T00:40:53.912391",
     "exception": false,
     "start_time": "2021-01-03T00:40:53.320975",
     "status": "completed"
    },
    "tags": []
   },
   "outputs": [],
   "source": [
    "from sklearn.cluster import KMeans"
   ]
  },
  {
   "cell_type": "code",
   "execution_count": 22,
   "metadata": {
    "execution": {
     "iopub.execute_input": "2021-01-03T00:40:54.006663Z",
     "iopub.status.busy": "2021-01-03T00:40:54.005583Z",
     "iopub.status.idle": "2021-01-03T00:40:54.086004Z",
     "shell.execute_reply": "2021-01-03T00:40:54.086781Z"
    },
    "papermill": {
     "duration": 0.129947,
     "end_time": "2021-01-03T00:40:54.087003",
     "exception": false,
     "start_time": "2021-01-03T00:40:53.957056",
     "status": "completed"
    },
    "tags": []
   },
   "outputs": [],
   "source": [
    "kmeans= KMeans(n_clusters=2)\n",
    "kmeans.fit(df_new[['Total Amount Spent', 'InvoiceNo', 'Last_transact']])\n",
    "pred = kmeans.predict(df_new[['Total Amount Spent', 'InvoiceNo', 'Last_transact']])"
   ]
  },
  {
   "cell_type": "code",
   "execution_count": 23,
   "metadata": {
    "execution": {
     "iopub.execute_input": "2021-01-03T00:40:54.215937Z",
     "iopub.status.busy": "2021-01-03T00:40:54.214864Z",
     "iopub.status.idle": "2021-01-03T00:40:54.219922Z",
     "shell.execute_reply": "2021-01-03T00:40:54.220722Z"
    },
    "papermill": {
     "duration": 0.072035,
     "end_time": "2021-01-03T00:40:54.220943",
     "exception": false,
     "start_time": "2021-01-03T00:40:54.148908",
     "status": "completed"
    },
    "tags": []
   },
   "outputs": [
    {
     "data": {
      "text/plain": [
       "array([[1.65070406e+03, 9.06685754e+01, 9.11630783e+01],\n",
       "       [1.82181982e+05, 1.82833333e+03, 6.66666667e+00]])"
      ]
     },
     "execution_count": 23,
     "metadata": {},
     "output_type": "execute_result"
    }
   ],
   "source": [
    "kmeans.cluster_centers_"
   ]
  },
  {
   "cell_type": "code",
   "execution_count": 24,
   "metadata": {
    "execution": {
     "iopub.execute_input": "2021-01-03T00:40:54.338881Z",
     "iopub.status.busy": "2021-01-03T00:40:54.337796Z",
     "iopub.status.idle": "2021-01-03T00:40:54.342492Z",
     "shell.execute_reply": "2021-01-03T00:40:54.341930Z"
    },
    "papermill": {
     "duration": 0.058309,
     "end_time": "2021-01-03T00:40:54.342609",
     "exception": false,
     "start_time": "2021-01-03T00:40:54.284300",
     "status": "completed"
    },
    "tags": []
   },
   "outputs": [
    {
     "data": {
      "text/plain": [
       "array([0, 0, 0, ..., 0, 0, 0], dtype=int32)"
      ]
     },
     "execution_count": 24,
     "metadata": {},
     "output_type": "execute_result"
    }
   ],
   "source": [
    "kmeans.labels_"
   ]
  },
  {
   "cell_type": "code",
   "execution_count": 25,
   "metadata": {
    "execution": {
     "iopub.execute_input": "2021-01-03T00:40:54.444986Z",
     "iopub.status.busy": "2021-01-03T00:40:54.444215Z",
     "iopub.status.idle": "2021-01-03T00:40:54.448565Z",
     "shell.execute_reply": "2021-01-03T00:40:54.448022Z"
    },
    "papermill": {
     "duration": 0.058046,
     "end_time": "2021-01-03T00:40:54.448687",
     "exception": false,
     "start_time": "2021-01-03T00:40:54.390641",
     "status": "completed"
    },
    "tags": []
   },
   "outputs": [],
   "source": [
    "pred = pd.DataFrame(pred, columns=['pred'])\n",
    "df_new = df_new.join(pred)"
   ]
  },
  {
   "cell_type": "markdown",
   "metadata": {
    "papermill": {
     "duration": 0.046851,
     "end_time": "2021-01-03T00:40:54.542298",
     "exception": false,
     "start_time": "2021-01-03T00:40:54.495447",
     "status": "completed"
    },
    "tags": []
   },
   "source": [
    "# Clusters are created!\n",
    "\n",
    "* we will now visualize them using different analytics tools and plots. \n",
    "* KMeans Clustering is unsupervised learning model so this means we do not really have anything to compare it with. \n",
    "* However we will try to visualize and make assumptions of how it actually made the segmentation"
   ]
  },
  {
   "cell_type": "code",
   "execution_count": 26,
   "metadata": {
    "execution": {
     "iopub.execute_input": "2021-01-03T00:40:54.654243Z",
     "iopub.status.busy": "2021-01-03T00:40:54.645151Z",
     "iopub.status.idle": "2021-01-03T00:40:55.131100Z",
     "shell.execute_reply": "2021-01-03T00:40:55.130302Z"
    },
    "papermill": {
     "duration": 0.541699,
     "end_time": "2021-01-03T00:40:55.131245",
     "exception": false,
     "start_time": "2021-01-03T00:40:54.589546",
     "status": "completed"
    },
    "tags": []
   },
   "outputs": [
    {
     "data": {
      "text/plain": [
       "Text(0.5, 0, 'Clusters')"
      ]
     },
     "execution_count": 26,
     "metadata": {},
     "output_type": "execute_result"
    },
    {
     "data": {
      "image/png": "[encoded data removed]",
      "text/plain": [
       "<Figure size 1008x432 with 3 Axes>"
      ]
     },
     "metadata": {
      "needs_background": "light"
     },
     "output_type": "display_data"
    }
   ],
   "source": [
    "fig, ax =plt.subplots(nrows= 1, ncols = 3, figsize= (14,6))\n",
    "ty=sns.stripplot(x='pred', y='Total Amount Spent', data=df_new, s=8, ax = ax[0], palette='magma_r')\n",
    "sns.despine(left=True)\n",
    "ty.set_title('Clusters based on different Amounts')\n",
    "ty.set_ylabel('Total Spent')\n",
    "ty.set_xlabel('Clusters')\n",
    "\n",
    "tt=sns.boxplot(x='pred', y='InvoiceNo', data=df_new, ax = ax[1], palette='coolwarm_r')\n",
    "tt.set_title('Clusters based on Number of Transactions')\n",
    "tt.set_ylabel('Total Transactions')\n",
    "tt.set_xlabel('Clusters')\n",
    "\n",
    "tr=sns.boxplot(x='pred', y='Last_transact', data=df_new, ax = ax[2], palette='magma_r')\n",
    "tr.set_title('Clusters based on Last Transaction')\n",
    "tr.set_ylabel('Last Transactions (Days ago)')\n",
    "tr.set_xlabel('Clusters')"
   ]
  }
 ],
 "metadata": {
  "kernelspec": {
   "display_name": "Python 3",
   "language": "python",
   "name": "python3"
  },
  "language_info": {
   "codemirror_mode": {
    "name": "ipython",
    "version": 3
   },
   "file_extension": ".py",
   "mimetype": "text/x-python",
   "name": "python",
   "nbconvert_exporter": "python",
   "pygments_lexer": "ipython3",
   "version": "3.7.6"
  },
  "papermill": {
   "duration": 35.142566,
   "end_time": "2021-01-03T00:41:11.016444",
   "environment_variables": {},
   "exception": null,
   "input_path": "__notebook__.ipynb",
   "output_path": "__notebook__.ipynb",
   "parameters": {},
   "start_time": "2021-01-03T00:40:35.873878",
   "version": "2.1.0"
  }
 },
 "nbformat": 4,
 "nbformat_minor": 4
}
