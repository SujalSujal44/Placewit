{
 "cells": [
  {
   "cell_type": "code",
   "execution_count": 1,
   "metadata": {
    "_cell_guid": "b1076dfc-b9ad-4769-8c92-a6c4dae69d19",
    "_uuid": "8f2839f25d086af736a60e9eeb907d3b93b6e0e5",
    "execution": {
     "iopub.execute_input": "2020-09-03T18:35:24.550604Z",
     "iopub.status.busy": "2020-09-03T18:35:24.549647Z",
     "iopub.status.idle": "2020-09-03T18:35:26.892715Z",
     "shell.execute_reply": "2020-09-03T18:35:26.891728Z"
    },
    "papermill": {
     "duration": 2.363647,
     "end_time": "2020-09-03T18:35:26.892881",
     "exception": false,
     "start_time": "2020-09-03T18:35:24.529234",
     "status": "completed"
    },
    "tags": []
   },
   "outputs": [
    {
     "name": "stdout",
     "output_type": "stream",
     "text": [
      "/kaggle/input/dont-overfit-ii/sample_submission.csv\n",
      "/kaggle/input/dont-overfit-ii/test.csv\n",
      "/kaggle/input/dont-overfit-ii/train.csv\n"
     ]
    }
   ],
   "source": [
    "\n",
    "\n",
    "import numpy as np # linear algebra\n",
    "import pandas as pd # data processing, CSV file I/O (e.g. pd.read_csv)\n",
    "import matplotlib.pyplot as plt \n",
    "import statsmodels.api as sm\n",
    "from sklearn.model_selection import train_test_split\n",
    "import seaborn as sns\n",
    "\n",
    "\n"
   ]
  },
  {
   "cell_type": "code",
   "execution_count": 3,
   "metadata": {
    "execution": {
     "iopub.execute_input": "2020-09-03T18:35:26.958525Z",
     "iopub.status.busy": "2020-09-03T18:35:26.957723Z",
     "iopub.status.idle": "2020-09-03T18:35:27.029981Z",
     "shell.execute_reply": "2020-09-03T18:35:27.029149Z"
    },
    "papermill": {
     "duration": 0.092035,
     "end_time": "2020-09-03T18:35:27.030143",
     "exception": false,
     "start_time": "2020-09-03T18:35:26.938108",
     "status": "completed"
    },
    "tags": []
   },
   "outputs": [],
   "source": [
    "data = pd.read_csv(\"data.csv\")"
   ]
  },
  {
   "cell_type": "code",
   "execution_count": 4,
   "metadata": {
    "execution": {
     "iopub.execute_input": "2020-09-03T18:35:27.082505Z",
     "iopub.status.busy": "2020-09-03T18:35:27.081561Z",
     "iopub.status.idle": "2020-09-03T18:35:27.102660Z",
     "shell.execute_reply": "2020-09-03T18:35:27.102013Z"
    },
    "papermill": {
     "duration": 0.060787,
     "end_time": "2020-09-03T18:35:27.102810",
     "exception": false,
     "start_time": "2020-09-03T18:35:27.042023",
     "status": "completed"
    },
    "tags": []
   },
   "outputs": [
    {
     "data": {
      "text/html": [
       "<div>\n",
       "<style scoped>\n",
       "    .dataframe tbody tr th:only-of-type {\n",
       "        vertical-align: middle;\n",
       "    }\n",
       "\n",
       "    .dataframe tbody tr th {\n",
       "        vertical-align: top;\n",
       "    }\n",
       "\n",
       "    .dataframe thead th {\n",
       "        text-align: right;\n",
       "    }\n",
       "</style>\n",
       "<table border=\"1\" class=\"dataframe\">\n",
       "  <thead>\n",
       "    <tr style=\"text-align: right;\">\n",
       "      <th></th>\n",
       "      <th>id</th>\n",
       "      <th>target</th>\n",
       "      <th>0</th>\n",
       "      <th>1</th>\n",
       "      <th>2</th>\n",
       "      <th>3</th>\n",
       "      <th>4</th>\n",
       "      <th>5</th>\n",
       "      <th>6</th>\n",
       "      <th>7</th>\n",
       "      <th>...</th>\n",
       "      <th>290</th>\n",
       "      <th>291</th>\n",
       "      <th>292</th>\n",
       "      <th>293</th>\n",
       "      <th>294</th>\n",
       "      <th>295</th>\n",
       "      <th>296</th>\n",
       "      <th>297</th>\n",
       "      <th>298</th>\n",
       "      <th>299</th>\n",
       "    </tr>\n",
       "  </thead>\n",
       "  <tbody>\n",
       "    <tr>\n",
       "      <th>0</th>\n",
       "      <td>0</td>\n",
       "      <td>1.0</td>\n",
       "      <td>-1.067</td>\n",
       "      <td>-1.114</td>\n",
       "      <td>-0.616</td>\n",
       "      <td>0.376</td>\n",
       "      <td>1.090</td>\n",
       "      <td>0.467</td>\n",
       "      <td>-0.422</td>\n",
       "      <td>0.460</td>\n",
       "      <td>...</td>\n",
       "      <td>0.220</td>\n",
       "      <td>-0.339</td>\n",
       "      <td>0.254</td>\n",
       "      <td>-0.179</td>\n",
       "      <td>0.352</td>\n",
       "      <td>0.125</td>\n",
       "      <td>0.347</td>\n",
       "      <td>0.436</td>\n",
       "      <td>0.958</td>\n",
       "      <td>-0.824</td>\n",
       "    </tr>\n",
       "    <tr>\n",
       "      <th>1</th>\n",
       "      <td>1</td>\n",
       "      <td>0.0</td>\n",
       "      <td>-0.831</td>\n",
       "      <td>0.271</td>\n",
       "      <td>1.716</td>\n",
       "      <td>1.096</td>\n",
       "      <td>1.731</td>\n",
       "      <td>-0.197</td>\n",
       "      <td>1.904</td>\n",
       "      <td>-0.265</td>\n",
       "      <td>...</td>\n",
       "      <td>-0.765</td>\n",
       "      <td>-0.735</td>\n",
       "      <td>-1.158</td>\n",
       "      <td>2.554</td>\n",
       "      <td>0.856</td>\n",
       "      <td>-1.506</td>\n",
       "      <td>0.462</td>\n",
       "      <td>-0.029</td>\n",
       "      <td>-1.932</td>\n",
       "      <td>-0.343</td>\n",
       "    </tr>\n",
       "    <tr>\n",
       "      <th>2</th>\n",
       "      <td>2</td>\n",
       "      <td>0.0</td>\n",
       "      <td>0.099</td>\n",
       "      <td>1.390</td>\n",
       "      <td>-0.732</td>\n",
       "      <td>-1.065</td>\n",
       "      <td>0.005</td>\n",
       "      <td>-0.081</td>\n",
       "      <td>-1.450</td>\n",
       "      <td>0.317</td>\n",
       "      <td>...</td>\n",
       "      <td>-1.311</td>\n",
       "      <td>0.799</td>\n",
       "      <td>-1.001</td>\n",
       "      <td>1.544</td>\n",
       "      <td>0.575</td>\n",
       "      <td>-0.309</td>\n",
       "      <td>-0.339</td>\n",
       "      <td>-0.148</td>\n",
       "      <td>-0.646</td>\n",
       "      <td>0.725</td>\n",
       "    </tr>\n",
       "    <tr>\n",
       "      <th>3</th>\n",
       "      <td>3</td>\n",
       "      <td>1.0</td>\n",
       "      <td>-0.989</td>\n",
       "      <td>-0.916</td>\n",
       "      <td>-1.343</td>\n",
       "      <td>0.145</td>\n",
       "      <td>0.543</td>\n",
       "      <td>0.636</td>\n",
       "      <td>1.127</td>\n",
       "      <td>0.189</td>\n",
       "      <td>...</td>\n",
       "      <td>-1.370</td>\n",
       "      <td>1.093</td>\n",
       "      <td>0.596</td>\n",
       "      <td>-0.589</td>\n",
       "      <td>-0.649</td>\n",
       "      <td>-0.163</td>\n",
       "      <td>-0.958</td>\n",
       "      <td>-1.081</td>\n",
       "      <td>0.805</td>\n",
       "      <td>3.401</td>\n",
       "    </tr>\n",
       "    <tr>\n",
       "      <th>4</th>\n",
       "      <td>4</td>\n",
       "      <td>0.0</td>\n",
       "      <td>0.811</td>\n",
       "      <td>-1.509</td>\n",
       "      <td>0.522</td>\n",
       "      <td>-0.360</td>\n",
       "      <td>-0.220</td>\n",
       "      <td>-0.959</td>\n",
       "      <td>0.334</td>\n",
       "      <td>-0.566</td>\n",
       "      <td>...</td>\n",
       "      <td>-0.178</td>\n",
       "      <td>0.718</td>\n",
       "      <td>-1.017</td>\n",
       "      <td>1.249</td>\n",
       "      <td>-0.596</td>\n",
       "      <td>-0.445</td>\n",
       "      <td>1.751</td>\n",
       "      <td>1.442</td>\n",
       "      <td>-0.393</td>\n",
       "      <td>-0.643</td>\n",
       "    </tr>\n",
       "  </tbody>\n",
       "</table>\n",
       "<p>5 rows × 302 columns</p>\n",
       "</div>"
      ],
      "text/plain": [
       "   id  target      0      1      2      3      4      5      6      7  ...  \\\n",
       "0   0     1.0 -1.067 -1.114 -0.616  0.376  1.090  0.467 -0.422  0.460  ...   \n",
       "1   1     0.0 -0.831  0.271  1.716  1.096  1.731 -0.197  1.904 -0.265  ...   \n",
       "2   2     0.0  0.099  1.390 -0.732 -1.065  0.005 -0.081 -1.450  0.317  ...   \n",
       "3   3     1.0 -0.989 -0.916 -1.343  0.145  0.543  0.636  1.127  0.189  ...   \n",
       "4   4     0.0  0.811 -1.509  0.522 -0.360 -0.220 -0.959  0.334 -0.566  ...   \n",
       "\n",
       "     290    291    292    293    294    295    296    297    298    299  \n",
       "0  0.220 -0.339  0.254 -0.179  0.352  0.125  0.347  0.436  0.958 -0.824  \n",
       "1 -0.765 -0.735 -1.158  2.554  0.856 -1.506  0.462 -0.029 -1.932 -0.343  \n",
       "2 -1.311  0.799 -1.001  1.544  0.575 -0.309 -0.339 -0.148 -0.646  0.725  \n",
       "3 -1.370  1.093  0.596 -0.589 -0.649 -0.163 -0.958 -1.081  0.805  3.401  \n",
       "4 -0.178  0.718 -1.017  1.249 -0.596 -0.445  1.751  1.442 -0.393 -0.643  \n",
       "\n",
       "[5 rows x 302 columns]"
      ]
     },
     "execution_count": 4,
     "metadata": {},
     "output_type": "execute_result"
    }
   ],
   "source": [
    "data.head()"
   ]
  },
  {
   "cell_type": "code",
   "execution_count": 5,
   "metadata": {
    "execution": {
     "iopub.execute_input": "2020-09-03T18:35:27.144854Z",
     "iopub.status.busy": "2020-09-03T18:35:27.143922Z",
     "iopub.status.idle": "2020-09-03T18:35:27.875675Z",
     "shell.execute_reply": "2020-09-03T18:35:27.874939Z"
    },
    "papermill": {
     "duration": 0.760843,
     "end_time": "2020-09-03T18:35:27.875806",
     "exception": false,
     "start_time": "2020-09-03T18:35:27.114963",
     "status": "completed"
    },
    "tags": []
   },
   "outputs": [
    {
     "data": {
      "text/html": [
       "<div>\n",
       "<style scoped>\n",
       "    .dataframe tbody tr th:only-of-type {\n",
       "        vertical-align: middle;\n",
       "    }\n",
       "\n",
       "    .dataframe tbody tr th {\n",
       "        vertical-align: top;\n",
       "    }\n",
       "\n",
       "    .dataframe thead th {\n",
       "        text-align: right;\n",
       "    }\n",
       "</style>\n",
       "<table border=\"1\" class=\"dataframe\">\n",
       "  <thead>\n",
       "    <tr style=\"text-align: right;\">\n",
       "      <th></th>\n",
       "      <th>id</th>\n",
       "      <th>target</th>\n",
       "      <th>0</th>\n",
       "      <th>1</th>\n",
       "      <th>2</th>\n",
       "      <th>3</th>\n",
       "      <th>4</th>\n",
       "      <th>5</th>\n",
       "      <th>6</th>\n",
       "      <th>7</th>\n",
       "      <th>...</th>\n",
       "      <th>290</th>\n",
       "      <th>291</th>\n",
       "      <th>292</th>\n",
       "      <th>293</th>\n",
       "      <th>294</th>\n",
       "      <th>295</th>\n",
       "      <th>296</th>\n",
       "      <th>297</th>\n",
       "      <th>298</th>\n",
       "      <th>299</th>\n",
       "    </tr>\n",
       "  </thead>\n",
       "  <tbody>\n",
       "    <tr>\n",
       "      <th>count</th>\n",
       "      <td>250.000000</td>\n",
       "      <td>250.000000</td>\n",
       "      <td>250.000000</td>\n",
       "      <td>250.000000</td>\n",
       "      <td>250.000000</td>\n",
       "      <td>250.000000</td>\n",
       "      <td>250.000000</td>\n",
       "      <td>250.000000</td>\n",
       "      <td>250.000000</td>\n",
       "      <td>250.000000</td>\n",
       "      <td>...</td>\n",
       "      <td>250.000000</td>\n",
       "      <td>250.000000</td>\n",
       "      <td>250.000000</td>\n",
       "      <td>250.000000</td>\n",
       "      <td>250.000000</td>\n",
       "      <td>250.000000</td>\n",
       "      <td>250.000000</td>\n",
       "      <td>250.000000</td>\n",
       "      <td>250.000000</td>\n",
       "      <td>250.000000</td>\n",
       "    </tr>\n",
       "    <tr>\n",
       "      <th>mean</th>\n",
       "      <td>124.500000</td>\n",
       "      <td>0.268000</td>\n",
       "      <td>-0.098064</td>\n",
       "      <td>0.001208</td>\n",
       "      <td>0.090680</td>\n",
       "      <td>-0.122248</td>\n",
       "      <td>0.011500</td>\n",
       "      <td>-0.116624</td>\n",
       "      <td>0.006932</td>\n",
       "      <td>0.100988</td>\n",
       "      <td>...</td>\n",
       "      <td>0.013052</td>\n",
       "      <td>0.007500</td>\n",
       "      <td>0.000452</td>\n",
       "      <td>0.060276</td>\n",
       "      <td>-0.090308</td>\n",
       "      <td>-0.040728</td>\n",
       "      <td>-0.002132</td>\n",
       "      <td>-0.012540</td>\n",
       "      <td>-0.039904</td>\n",
       "      <td>0.073236</td>\n",
       "    </tr>\n",
       "    <tr>\n",
       "      <th>std</th>\n",
       "      <td>72.312977</td>\n",
       "      <td>0.443806</td>\n",
       "      <td>0.996063</td>\n",
       "      <td>0.955117</td>\n",
       "      <td>0.968065</td>\n",
       "      <td>0.933001</td>\n",
       "      <td>0.945662</td>\n",
       "      <td>1.081705</td>\n",
       "      <td>1.014091</td>\n",
       "      <td>1.028042</td>\n",
       "      <td>...</td>\n",
       "      <td>1.027845</td>\n",
       "      <td>1.048169</td>\n",
       "      <td>1.026398</td>\n",
       "      <td>1.048744</td>\n",
       "      <td>1.008657</td>\n",
       "      <td>1.051273</td>\n",
       "      <td>1.065524</td>\n",
       "      <td>0.958744</td>\n",
       "      <td>0.948251</td>\n",
       "      <td>0.924989</td>\n",
       "    </tr>\n",
       "    <tr>\n",
       "      <th>min</th>\n",
       "      <td>0.000000</td>\n",
       "      <td>0.000000</td>\n",
       "      <td>-3.181000</td>\n",
       "      <td>-3.041000</td>\n",
       "      <td>-2.967000</td>\n",
       "      <td>-2.898000</td>\n",
       "      <td>-2.837000</td>\n",
       "      <td>-3.831000</td>\n",
       "      <td>-2.873000</td>\n",
       "      <td>-2.489000</td>\n",
       "      <td>...</td>\n",
       "      <td>-2.824000</td>\n",
       "      <td>-2.971000</td>\n",
       "      <td>-3.592000</td>\n",
       "      <td>-3.071000</td>\n",
       "      <td>-2.621000</td>\n",
       "      <td>-3.013000</td>\n",
       "      <td>-3.275000</td>\n",
       "      <td>-2.665000</td>\n",
       "      <td>-3.006000</td>\n",
       "      <td>-2.471000</td>\n",
       "    </tr>\n",
       "    <tr>\n",
       "      <th>25%</th>\n",
       "      <td>62.250000</td>\n",
       "      <td>0.000000</td>\n",
       "      <td>-0.756250</td>\n",
       "      <td>-0.624750</td>\n",
       "      <td>-0.515750</td>\n",
       "      <td>-0.695500</td>\n",
       "      <td>-0.678000</td>\n",
       "      <td>-0.758500</td>\n",
       "      <td>-0.646250</td>\n",
       "      <td>-0.589000</td>\n",
       "      <td>...</td>\n",
       "      <td>-0.764000</td>\n",
       "      <td>-0.729250</td>\n",
       "      <td>-0.699750</td>\n",
       "      <td>-0.589000</td>\n",
       "      <td>-0.701000</td>\n",
       "      <td>-0.696750</td>\n",
       "      <td>-0.555750</td>\n",
       "      <td>-0.677500</td>\n",
       "      <td>-0.719750</td>\n",
       "      <td>-0.559000</td>\n",
       "    </tr>\n",
       "    <tr>\n",
       "      <th>50%</th>\n",
       "      <td>124.500000</td>\n",
       "      <td>0.000000</td>\n",
       "      <td>-0.064500</td>\n",
       "      <td>-0.008000</td>\n",
       "      <td>0.067500</td>\n",
       "      <td>-0.090000</td>\n",
       "      <td>0.028000</td>\n",
       "      <td>-0.073500</td>\n",
       "      <td>-0.076500</td>\n",
       "      <td>0.104500</td>\n",
       "      <td>...</td>\n",
       "      <td>0.017500</td>\n",
       "      <td>0.053000</td>\n",
       "      <td>0.029500</td>\n",
       "      <td>0.042500</td>\n",
       "      <td>-0.102000</td>\n",
       "      <td>-0.057000</td>\n",
       "      <td>0.094500</td>\n",
       "      <td>-0.025500</td>\n",
       "      <td>-0.027500</td>\n",
       "      <td>0.160500</td>\n",
       "    </tr>\n",
       "    <tr>\n",
       "      <th>75%</th>\n",
       "      <td>186.750000</td>\n",
       "      <td>1.000000</td>\n",
       "      <td>0.647750</td>\n",
       "      <td>0.493250</td>\n",
       "      <td>0.716000</td>\n",
       "      <td>0.436250</td>\n",
       "      <td>0.625250</td>\n",
       "      <td>0.554250</td>\n",
       "      <td>0.676500</td>\n",
       "      <td>0.717000</td>\n",
       "      <td>...</td>\n",
       "      <td>0.690500</td>\n",
       "      <td>0.665000</td>\n",
       "      <td>0.670750</td>\n",
       "      <td>0.713250</td>\n",
       "      <td>0.532250</td>\n",
       "      <td>0.727000</td>\n",
       "      <td>0.590000</td>\n",
       "      <td>0.671000</td>\n",
       "      <td>0.717000</td>\n",
       "      <td>0.711000</td>\n",
       "    </tr>\n",
       "    <tr>\n",
       "      <th>max</th>\n",
       "      <td>249.000000</td>\n",
       "      <td>1.000000</td>\n",
       "      <td>2.347000</td>\n",
       "      <td>3.138000</td>\n",
       "      <td>2.609000</td>\n",
       "      <td>2.590000</td>\n",
       "      <td>2.413000</td>\n",
       "      <td>2.687000</td>\n",
       "      <td>2.793000</td>\n",
       "      <td>3.766000</td>\n",
       "      <td>...</td>\n",
       "      <td>2.773000</td>\n",
       "      <td>2.701000</td>\n",
       "      <td>3.193000</td>\n",
       "      <td>4.280000</td>\n",
       "      <td>2.716000</td>\n",
       "      <td>3.074000</td>\n",
       "      <td>2.626000</td>\n",
       "      <td>2.388000</td>\n",
       "      <td>2.730000</td>\n",
       "      <td>3.401000</td>\n",
       "    </tr>\n",
       "  </tbody>\n",
       "</table>\n",
       "<p>8 rows × 302 columns</p>\n",
       "</div>"
      ],
      "text/plain": [
       "               id      target           0           1           2           3  \\\n",
       "count  250.000000  250.000000  250.000000  250.000000  250.000000  250.000000   \n",
       "mean   124.500000    0.268000   -0.098064    0.001208    0.090680   -0.122248   \n",
       "std     72.312977    0.443806    0.996063    0.955117    0.968065    0.933001   \n",
       "min      0.000000    0.000000   -3.181000   -3.041000   -2.967000   -2.898000   \n",
       "25%     62.250000    0.000000   -0.756250   -0.624750   -0.515750   -0.695500   \n",
       "50%    124.500000    0.000000   -0.064500   -0.008000    0.067500   -0.090000   \n",
       "75%    186.750000    1.000000    0.647750    0.493250    0.716000    0.436250   \n",
       "max    249.000000    1.000000    2.347000    3.138000    2.609000    2.590000   \n",
       "\n",
       "                4           5           6           7  ...         290  \\\n",
       "count  250.000000  250.000000  250.000000  250.000000  ...  250.000000   \n",
       "mean     0.011500   -0.116624    0.006932    0.100988  ...    0.013052   \n",
       "std      0.945662    1.081705    1.014091    1.028042  ...    1.027845   \n",
       "min     -2.837000   -3.831000   -2.873000   -2.489000  ...   -2.824000   \n",
       "25%     -0.678000   -0.758500   -0.646250   -0.589000  ...   -0.764000   \n",
       "50%      0.028000   -0.073500   -0.076500    0.104500  ...    0.017500   \n",
       "75%      0.625250    0.554250    0.676500    0.717000  ...    0.690500   \n",
       "max      2.413000    2.687000    2.793000    3.766000  ...    2.773000   \n",
       "\n",
       "              291         292         293         294         295         296  \\\n",
       "count  250.000000  250.000000  250.000000  250.000000  250.000000  250.000000   \n",
       "mean     0.007500    0.000452    0.060276   -0.090308   -0.040728   -0.002132   \n",
       "std      1.048169    1.026398    1.048744    1.008657    1.051273    1.065524   \n",
       "min     -2.971000   -3.592000   -3.071000   -2.621000   -3.013000   -3.275000   \n",
       "25%     -0.729250   -0.699750   -0.589000   -0.701000   -0.696750   -0.555750   \n",
       "50%      0.053000    0.029500    0.042500   -0.102000   -0.057000    0.094500   \n",
       "75%      0.665000    0.670750    0.713250    0.532250    0.727000    0.590000   \n",
       "max      2.701000    3.193000    4.280000    2.716000    3.074000    2.626000   \n",
       "\n",
       "              297         298         299  \n",
       "count  250.000000  250.000000  250.000000  \n",
       "mean    -0.012540   -0.039904    0.073236  \n",
       "std      0.958744    0.948251    0.924989  \n",
       "min     -2.665000   -3.006000   -2.471000  \n",
       "25%     -0.677500   -0.719750   -0.559000  \n",
       "50%     -0.025500   -0.027500    0.160500  \n",
       "75%      0.671000    0.717000    0.711000  \n",
       "max      2.388000    2.730000    3.401000  \n",
       "\n",
       "[8 rows x 302 columns]"
      ]
     },
     "execution_count": 5,
     "metadata": {},
     "output_type": "execute_result"
    }
   ],
   "source": [
    "data.describe()"
   ]
  },
  {
   "cell_type": "markdown",
   "metadata": {
    "papermill": {
     "duration": 0.012206,
     "end_time": "2020-09-03T18:35:27.928505",
     "exception": false,
     "start_time": "2020-09-03T18:35:27.916299",
     "status": "completed"
    },
    "tags": []
   },
   "source": [
    "\n",
    "\n",
    "# to find the correlation among variables (Multicollinearity)\n",
    "\n",
    "\n"
   ]
  },
  {
   "cell_type": "code",
   "execution_count": 6,
   "metadata": {
    "execution": {
     "iopub.execute_input": "2020-09-03T18:35:27.962109Z",
     "iopub.status.busy": "2020-09-03T18:35:27.961254Z",
     "iopub.status.idle": "2020-09-03T18:35:27.977554Z",
     "shell.execute_reply": "2020-09-03T18:35:27.976706Z"
    },
    "papermill": {
     "duration": 0.0358,
     "end_time": "2020-09-03T18:35:27.977686",
     "exception": false,
     "start_time": "2020-09-03T18:35:27.941886",
     "status": "completed"
    },
    "tags": []
   },
   "outputs": [
    {
     "data": {
      "text/plain": [
       "id        250\n",
       "target    250\n",
       "0         250\n",
       "1         250\n",
       "2         250\n",
       "         ... \n",
       "295       250\n",
       "296       250\n",
       "297       250\n",
       "298       250\n",
       "299       250\n",
       "Length: 302, dtype: int64"
      ]
     },
     "execution_count": 6,
     "metadata": {},
     "output_type": "execute_result"
    }
   ],
   "source": [
    "data.count()"
   ]
  },
  {
   "cell_type": "code",
   "execution_count": 7,
   "metadata": {
    "execution": {
     "iopub.execute_input": "2020-09-03T18:35:28.011109Z",
     "iopub.status.busy": "2020-09-03T18:35:28.010190Z",
     "iopub.status.idle": "2020-09-03T18:35:28.073160Z",
     "shell.execute_reply": "2020-09-03T18:35:28.072125Z"
    },
    "papermill": {
     "duration": 0.082618,
     "end_time": "2020-09-03T18:35:28.073339",
     "exception": false,
     "start_time": "2020-09-03T18:35:27.990721",
     "status": "completed"
    },
    "tags": []
   },
   "outputs": [
    {
     "name": "stdout",
     "output_type": "stream",
     "text": [
      "              id    target         0         1         2\n",
      "id      1.000000  0.002565 -0.072283  0.067695  0.010374\n",
      "target  0.002565  1.000000 -0.085268 -0.111172 -0.036050\n",
      "0      -0.072283 -0.085268  1.000000  0.039939  0.069846\n",
      "1       0.067695 -0.111172  0.039939  1.000000  0.023237\n",
      "2       0.010374 -0.036050  0.069846  0.023237  1.000000\n"
     ]
    }
   ],
   "source": [
    "data.corr()\n",
    "cor = data.iloc[:,0:5].corr()\n",
    "print(cor)\n"
   ]
  },
  {
   "cell_type": "markdown",
   "metadata": {
    "papermill": {
     "duration": 0.017332,
     "end_time": "2020-09-03T18:35:28.109316",
     "exception": false,
     "start_time": "2020-09-03T18:35:28.091984",
     "status": "completed"
    },
    "tags": []
   },
   "source": [
    "# >  LINEAR REGRESSION"
   ]
  },
  {
   "cell_type": "code",
   "execution_count": 8,
   "metadata": {
    "execution": {
     "iopub.execute_input": "2020-09-03T18:35:28.151136Z",
     "iopub.status.busy": "2020-09-03T18:35:28.150069Z",
     "iopub.status.idle": "2020-09-03T18:35:28.154809Z",
     "shell.execute_reply": "2020-09-03T18:35:28.154049Z"
    },
    "papermill": {
     "duration": 0.029879,
     "end_time": "2020-09-03T18:35:28.154953",
     "exception": false,
     "start_time": "2020-09-03T18:35:28.125074",
     "status": "completed"
    },
    "tags": []
   },
   "outputs": [
    {
     "name": "stdout",
     "output_type": "stream",
     "text": [
      "(175, 302)\n",
      "(75, 302)\n"
     ]
    }
   ],
   "source": [
    "train, test = train_test_split(data, test_size = 0.3)\n",
    "print(train.shape)\n",
    "print(test.shape)\n"
   ]
  },
  {
   "cell_type": "markdown",
   "metadata": {
    "papermill": {
     "duration": 0.016379,
     "end_time": "2020-09-03T18:35:28.185342",
     "exception": false,
     "start_time": "2020-09-03T18:35:28.168963",
     "status": "completed"
    },
    "tags": []
   },
   "source": [
    "# split the train and test into X and Y variables\n",
    "# ------------------------------------------------\n"
   ]
  },
  {
   "cell_type": "code",
   "execution_count": 9,
   "metadata": {
    "execution": {
     "iopub.execute_input": "2020-09-03T18:35:28.231675Z",
     "iopub.status.busy": "2020-09-03T18:35:28.230568Z",
     "iopub.status.idle": "2020-09-03T18:35:28.234590Z",
     "shell.execute_reply": "2020-09-03T18:35:28.233910Z"
    },
    "papermill": {
     "duration": 0.029786,
     "end_time": "2020-09-03T18:35:28.234725",
     "exception": false,
     "start_time": "2020-09-03T18:35:28.204939",
     "status": "completed"
    },
    "tags": []
   },
   "outputs": [],
   "source": [
    "train_x = train.iloc[:,0:120]; train_y = train.iloc[:,120]\n",
    "test_x  = test.iloc[:,0:120];  test_y = test.iloc[:,120]"
   ]
  },
  {
   "cell_type": "code",
   "execution_count": 10,
   "metadata": {
    "execution": {
     "iopub.execute_input": "2020-09-03T18:35:28.272045Z",
     "iopub.status.busy": "2020-09-03T18:35:28.270735Z",
     "iopub.status.idle": "2020-09-03T18:35:28.276604Z",
     "shell.execute_reply": "2020-09-03T18:35:28.275570Z"
    },
    "papermill": {
     "duration": 0.027518,
     "end_time": "2020-09-03T18:35:28.276771",
     "exception": false,
     "start_time": "2020-09-03T18:35:28.249253",
     "status": "completed"
    },
    "tags": []
   },
   "outputs": [
    {
     "name": "stdout",
     "output_type": "stream",
     "text": [
      "(175, 120)\n",
      "(175,)\n",
      "(75, 120)\n",
      "(75,)\n"
     ]
    }
   ],
   "source": [
    "print(train_x.shape)\n",
    "print(train_y.shape)\n",
    "print(test_x.shape)\n",
    "print(test_y.shape)\n"
   ]
  },
  {
   "cell_type": "code",
   "execution_count": 11,
   "metadata": {
    "execution": {
     "iopub.execute_input": "2020-09-03T18:35:28.322938Z",
     "iopub.status.busy": "2020-09-03T18:35:28.321821Z",
     "iopub.status.idle": "2020-09-03T18:35:28.326950Z",
     "shell.execute_reply": "2020-09-03T18:35:28.326155Z"
    },
    "papermill": {
     "duration": 0.03113,
     "end_time": "2020-09-03T18:35:28.327153",
     "exception": false,
     "start_time": "2020-09-03T18:35:28.296023",
     "status": "completed"
    },
    "tags": []
   },
   "outputs": [
    {
     "data": {
      "text/plain": [
       "22     0.686\n",
       "48    -1.229\n",
       "101   -0.053\n",
       "19    -0.543\n",
       "236    0.654\n",
       "Name: 118, dtype: float64"
      ]
     },
     "execution_count": 11,
     "metadata": {},
     "output_type": "execute_result"
    }
   ],
   "source": [
    "train_x.head()\n",
    "train_y.head()\n"
   ]
  },
  {
   "cell_type": "code",
   "execution_count": 12,
   "metadata": {
    "execution": {
     "iopub.execute_input": "2020-09-03T18:35:28.373770Z",
     "iopub.status.busy": "2020-09-03T18:35:28.372582Z",
     "iopub.status.idle": "2020-09-03T18:35:28.377832Z",
     "shell.execute_reply": "2020-09-03T18:35:28.377209Z"
    },
    "papermill": {
     "duration": 0.031801,
     "end_time": "2020-09-03T18:35:28.377954",
     "exception": false,
     "start_time": "2020-09-03T18:35:28.346153",
     "status": "completed"
    },
    "tags": []
   },
   "outputs": [
    {
     "data": {
      "text/plain": [
       "22     0.686\n",
       "48    -1.229\n",
       "101   -0.053\n",
       "19    -0.543\n",
       "236    0.654\n",
       "60     0.070\n",
       "196    0.144\n",
       "172   -0.075\n",
       "52    -0.081\n",
       "140    1.810\n",
       "201   -0.454\n",
       "125   -0.297\n",
       "49     0.438\n",
       "16    -1.466\n",
       "190    0.787\n",
       "53     0.210\n",
       "75    -0.038\n",
       "83     1.231\n",
       "223   -0.450\n",
       "82    -0.982\n",
       "Name: 118, dtype: float64"
      ]
     },
     "execution_count": 12,
     "metadata": {},
     "output_type": "execute_result"
    }
   ],
   "source": [
    "train_y.head(20)"
   ]
  },
  {
   "cell_type": "code",
   "execution_count": 13,
   "metadata": {
    "execution": {
     "iopub.execute_input": "2020-09-03T18:35:28.450961Z",
     "iopub.status.busy": "2020-09-03T18:35:28.449724Z",
     "iopub.status.idle": "2020-09-03T18:35:28.455292Z",
     "shell.execute_reply": "2020-09-03T18:35:28.454495Z"
    },
    "papermill": {
     "duration": 0.061973,
     "end_time": "2020-09-03T18:35:28.455428",
     "exception": false,
     "start_time": "2020-09-03T18:35:28.393455",
     "status": "completed"
    },
    "tags": []
   },
   "outputs": [
    {
     "data": {
      "text/html": [
       "<div>\n",
       "<style scoped>\n",
       "    .dataframe tbody tr th:only-of-type {\n",
       "        vertical-align: middle;\n",
       "    }\n",
       "\n",
       "    .dataframe tbody tr th {\n",
       "        vertical-align: top;\n",
       "    }\n",
       "\n",
       "    .dataframe thead th {\n",
       "        text-align: right;\n",
       "    }\n",
       "</style>\n",
       "<table border=\"1\" class=\"dataframe\">\n",
       "  <thead>\n",
       "    <tr style=\"text-align: right;\">\n",
       "      <th></th>\n",
       "      <th>id</th>\n",
       "      <th>target</th>\n",
       "      <th>0</th>\n",
       "      <th>1</th>\n",
       "      <th>2</th>\n",
       "      <th>3</th>\n",
       "      <th>4</th>\n",
       "      <th>5</th>\n",
       "      <th>6</th>\n",
       "      <th>7</th>\n",
       "      <th>...</th>\n",
       "      <th>290</th>\n",
       "      <th>291</th>\n",
       "      <th>292</th>\n",
       "      <th>293</th>\n",
       "      <th>294</th>\n",
       "      <th>295</th>\n",
       "      <th>296</th>\n",
       "      <th>297</th>\n",
       "      <th>298</th>\n",
       "      <th>299</th>\n",
       "    </tr>\n",
       "  </thead>\n",
       "  <tbody>\n",
       "    <tr>\n",
       "      <th>22</th>\n",
       "      <td>22</td>\n",
       "      <td>0.0</td>\n",
       "      <td>-0.437</td>\n",
       "      <td>-0.740</td>\n",
       "      <td>-0.390</td>\n",
       "      <td>0.687</td>\n",
       "      <td>1.031</td>\n",
       "      <td>0.108</td>\n",
       "      <td>-0.435</td>\n",
       "      <td>1.448</td>\n",
       "      <td>...</td>\n",
       "      <td>1.945</td>\n",
       "      <td>-0.303</td>\n",
       "      <td>0.409</td>\n",
       "      <td>1.306</td>\n",
       "      <td>-1.714</td>\n",
       "      <td>-1.174</td>\n",
       "      <td>0.160</td>\n",
       "      <td>0.117</td>\n",
       "      <td>-1.067</td>\n",
       "      <td>-0.290</td>\n",
       "    </tr>\n",
       "    <tr>\n",
       "      <th>48</th>\n",
       "      <td>48</td>\n",
       "      <td>0.0</td>\n",
       "      <td>0.899</td>\n",
       "      <td>-0.773</td>\n",
       "      <td>1.472</td>\n",
       "      <td>-0.334</td>\n",
       "      <td>-0.141</td>\n",
       "      <td>-1.576</td>\n",
       "      <td>-1.540</td>\n",
       "      <td>-0.623</td>\n",
       "      <td>...</td>\n",
       "      <td>0.373</td>\n",
       "      <td>0.343</td>\n",
       "      <td>-0.509</td>\n",
       "      <td>1.183</td>\n",
       "      <td>0.462</td>\n",
       "      <td>1.254</td>\n",
       "      <td>-0.095</td>\n",
       "      <td>-0.371</td>\n",
       "      <td>0.783</td>\n",
       "      <td>0.768</td>\n",
       "    </tr>\n",
       "    <tr>\n",
       "      <th>101</th>\n",
       "      <td>101</td>\n",
       "      <td>0.0</td>\n",
       "      <td>1.148</td>\n",
       "      <td>-0.927</td>\n",
       "      <td>0.812</td>\n",
       "      <td>-0.748</td>\n",
       "      <td>0.109</td>\n",
       "      <td>0.785</td>\n",
       "      <td>-1.009</td>\n",
       "      <td>-1.176</td>\n",
       "      <td>...</td>\n",
       "      <td>1.089</td>\n",
       "      <td>-0.348</td>\n",
       "      <td>0.392</td>\n",
       "      <td>0.119</td>\n",
       "      <td>-1.108</td>\n",
       "      <td>0.705</td>\n",
       "      <td>-0.857</td>\n",
       "      <td>1.807</td>\n",
       "      <td>1.381</td>\n",
       "      <td>0.340</td>\n",
       "    </tr>\n",
       "    <tr>\n",
       "      <th>19</th>\n",
       "      <td>19</td>\n",
       "      <td>1.0</td>\n",
       "      <td>-1.056</td>\n",
       "      <td>0.586</td>\n",
       "      <td>0.995</td>\n",
       "      <td>-0.873</td>\n",
       "      <td>-0.021</td>\n",
       "      <td>2.497</td>\n",
       "      <td>-0.526</td>\n",
       "      <td>0.696</td>\n",
       "      <td>...</td>\n",
       "      <td>-1.564</td>\n",
       "      <td>0.333</td>\n",
       "      <td>1.774</td>\n",
       "      <td>-1.706</td>\n",
       "      <td>0.234</td>\n",
       "      <td>1.239</td>\n",
       "      <td>-0.467</td>\n",
       "      <td>0.204</td>\n",
       "      <td>0.896</td>\n",
       "      <td>-1.250</td>\n",
       "    </tr>\n",
       "    <tr>\n",
       "      <th>236</th>\n",
       "      <td>236</td>\n",
       "      <td>0.0</td>\n",
       "      <td>-0.943</td>\n",
       "      <td>0.776</td>\n",
       "      <td>0.151</td>\n",
       "      <td>-0.708</td>\n",
       "      <td>1.850</td>\n",
       "      <td>-0.663</td>\n",
       "      <td>-0.824</td>\n",
       "      <td>-0.370</td>\n",
       "      <td>...</td>\n",
       "      <td>0.515</td>\n",
       "      <td>0.312</td>\n",
       "      <td>-0.351</td>\n",
       "      <td>-0.473</td>\n",
       "      <td>0.447</td>\n",
       "      <td>0.443</td>\n",
       "      <td>-1.104</td>\n",
       "      <td>-0.987</td>\n",
       "      <td>0.642</td>\n",
       "      <td>-0.181</td>\n",
       "    </tr>\n",
       "  </tbody>\n",
       "</table>\n",
       "<p>5 rows × 302 columns</p>\n",
       "</div>"
      ],
      "text/plain": [
       "      id  target      0      1      2      3      4      5      6      7  ...  \\\n",
       "22    22     0.0 -0.437 -0.740 -0.390  0.687  1.031  0.108 -0.435  1.448  ...   \n",
       "48    48     0.0  0.899 -0.773  1.472 -0.334 -0.141 -1.576 -1.540 -0.623  ...   \n",
       "101  101     0.0  1.148 -0.927  0.812 -0.748  0.109  0.785 -1.009 -1.176  ...   \n",
       "19    19     1.0 -1.056  0.586  0.995 -0.873 -0.021  2.497 -0.526  0.696  ...   \n",
       "236  236     0.0 -0.943  0.776  0.151 -0.708  1.850 -0.663 -0.824 -0.370  ...   \n",
       "\n",
       "       290    291    292    293    294    295    296    297    298    299  \n",
       "22   1.945 -0.303  0.409  1.306 -1.714 -1.174  0.160  0.117 -1.067 -0.290  \n",
       "48   0.373  0.343 -0.509  1.183  0.462  1.254 -0.095 -0.371  0.783  0.768  \n",
       "101  1.089 -0.348  0.392  0.119 -1.108  0.705 -0.857  1.807  1.381  0.340  \n",
       "19  -1.564  0.333  1.774 -1.706  0.234  1.239 -0.467  0.204  0.896 -1.250  \n",
       "236  0.515  0.312 -0.351 -0.473  0.447  0.443 -1.104 -0.987  0.642 -0.181  \n",
       "\n",
       "[5 rows x 302 columns]"
      ]
     },
     "execution_count": 13,
     "metadata": {},
     "output_type": "execute_result"
    }
   ],
   "source": [
    "train.head()"
   ]
  },
  {
   "cell_type": "code",
   "execution_count": 14,
   "metadata": {
    "execution": {
     "iopub.execute_input": "2020-09-03T18:35:28.524358Z",
     "iopub.status.busy": "2020-09-03T18:35:28.523100Z",
     "iopub.status.idle": "2020-09-03T18:35:28.528355Z",
     "shell.execute_reply": "2020-09-03T18:35:28.527671Z"
    },
    "papermill": {
     "duration": 0.029699,
     "end_time": "2020-09-03T18:35:28.528512",
     "exception": false,
     "start_time": "2020-09-03T18:35:28.498813",
     "status": "completed"
    },
    "tags": []
   },
   "outputs": [
    {
     "data": {
      "text/plain": [
       "id          int64\n",
       "target    float64\n",
       "0         float64\n",
       "1         float64\n",
       "2         float64\n",
       "           ...   \n",
       "295       float64\n",
       "296       float64\n",
       "297       float64\n",
       "298       float64\n",
       "299       float64\n",
       "Length: 302, dtype: object"
      ]
     },
     "execution_count": 14,
     "metadata": {},
     "output_type": "execute_result"
    }
   ],
   "source": [
    "train.dtypes"
   ]
  },
  {
   "cell_type": "markdown",
   "metadata": {
    "papermill": {
     "duration": 0.02135,
     "end_time": "2020-09-03T18:35:29.127823",
     "exception": false,
     "start_time": "2020-09-03T18:35:29.106473",
     "status": "completed"
    },
    "tags": []
   },
   "source": [
    "# ##To Check the Accuracy:\n",
    "#-----------------------------"
   ]
  },
  {
   "cell_type": "code",
   "execution_count": 20,
   "metadata": {
    "execution": {
     "iopub.execute_input": "2020-09-03T18:35:29.180767Z",
     "iopub.status.busy": "2020-09-03T18:35:29.179689Z",
     "iopub.status.idle": "2020-09-03T18:35:29.184133Z",
     "shell.execute_reply": "2020-09-03T18:35:29.184840Z"
    },
    "papermill": {
     "duration": 0.035042,
     "end_time": "2020-09-03T18:35:29.185061",
     "exception": false,
     "start_time": "2020-09-03T18:35:29.150019",
     "status": "completed"
    },
    "tags": []
   },
   "outputs": [
    {
     "name": "stdout",
     "output_type": "stream",
     "text": [
      "Mean Absolute Error: 1.6819203723464031\n",
      "Mean Squared Error: 3.981179734134414\n",
      "Root Mean Squared Error: 1.995289386062687\n"
     ]
    }
   ],
   "source": [
    "from sklearn import metrics  \n",
    "print('Mean Absolute Error:', metrics.mean_absolute_error(test_y, pdct1))  \n",
    "print('Mean Squared Error:', metrics.mean_squared_error(test_y, pdct1))  \n",
    "print('Root Mean Squared Error:', np.sqrt(metrics.mean_squared_error(test_y, pdct1))) "
   ]
  },
  {
   "cell_type": "code",
   "execution_count": 1,
   "metadata": {},
   "outputs": [
    {
     "name": "stdout",
     "output_type": "stream",
     "text": [
      "RMSE: 0.9579943877557057\n",
      "MSE: 0.9177532469714293\n",
      "MAE: 0.8014554834253336\n"
     ]
    },
    {
     "data": {
      "image/png": "[encoded data removed]",
      "text/plain": [
       "<Figure size 432x432 with 1 Axes>"
      ]
     },
     "metadata": {
      "needs_background": "light"
     },
     "output_type": "display_data"
    }
   ],
   "source": [
    "import numpy as np\n",
    "import pandas as pd\n",
    "from sklearn.model_selection import train_test_split\n",
    "from sklearn.linear_model import LinearRegression\n",
    "from sklearn.metrics import mean_squared_error, mean_absolute_error, confusion_matrix\n",
    "import matplotlib.pyplot as plt\n",
    "import seaborn as sns\n",
    "\n",
    "\n",
    "np.random.seed(0)\n",
    "X = 2 * np.random.rand(100, 1)  # Feature\n",
    "y = 4 + 3 * X + np.random.randn(100, 1)  # Target variable\n",
    "\n",
    "\n",
    "X_train, X_test, y_train, y_test = train_test_split(X, y, test_size=0.2, random_state=42)\n",
    "\n",
    "\n",
    "lin_reg = LinearRegression()\n",
    "lin_reg.fit(X_train, y_train)\n",
    "\n",
    "y_pred = lin_reg.predict(X_test)\n",
    "\n",
    "\n",
    "rmse = np.sqrt(mean_squared_error(y_test, y_pred))\n",
    "mse = mean_squared_error(y_test, y_pred)\n",
    "mae = mean_absolute_error(y_test, y_pred)\n",
    "\n",
    "\n",
    "y_train_binary = (y_train > np.median(y_train)).astype(int)\n",
    "y_pred_binary = (y_pred > np.median(y_train)).astype(int)\n",
    "conf_matrix = confusion_matrix(y_train_binary, lin_reg.predict(X_train) > np.median(y_train))\n",
    "\n",
    "\n",
    "print(\"RMSE:\", rmse)\n",
    "print(\"MSE:\", mse)\n",
    "print(\"MAE:\", mae)\n",
    "\n",
    "# confusion matrix\n",
    "plt.figure(figsize=(6, 6))\n",
    "sns.heatmap(conf_matrix, annot=True, fmt=\"d\", cmap=\"Blues\", cbar=False, square=True,\n",
    "            xticklabels=[\"Predicted 0\", \"Predicted 1\"],\n",
    "            yticklabels=[\"Actual 0\", \"Actual 1\"])\n",
    "plt.xlabel(\"Predicted\")\n",
    "plt.ylabel(\"Actual\")\n",
    "plt.title(\"Confusion Matrix\")\n",
    "plt.show()\n"
   ]
  },
  {
   "cell_type": "code",
   "execution_count": null,
   "metadata": {},
   "outputs": [],
   "source": []
  }
 ],
 "metadata": {
  "kernelspec": {
   "display_name": "Python 3 (ipykernel)",
   "language": "python",
   "name": "python3"
  },
  "language_info": {
   "codemirror_mode": {
    "name": "ipython",
    "version": 3
   },
   "file_extension": ".py",
   "mimetype": "text/x-python",
   "name": "python",
   "nbconvert_exporter": "python",
   "pygments_lexer": "ipython3",
   "version": "3.9.7"
  },
  "papermill": {
   "duration": 10.822869,
   "end_time": "2020-09-03T18:35:29.984874",
   "environment_variables": {},
   "exception": null,
   "input_path": "__notebook__.ipynb",
   "output_path": "__notebook__.ipynb",
   "parameters": {},
   "start_time": "2020-09-03T18:35:19.162005",
   "version": "2.1.0"
  }
 },
 "nbformat": 4,
 "nbformat_minor": 4
}
